{
 "cells": [
  {
   "cell_type": "code",
   "execution_count": 2,
   "id": "160901eb-e5a4-495e-8f0e-81ea653035a7",
   "metadata": {},
   "outputs": [],
   "source": [
    "from langchain.document_loaders import TextLoader \n",
    "from langchain.document_loaders import UnstructuredURLLoader #for unstructured text i.e html page to extract text"
   ]
  },
  {
   "cell_type": "code",
   "execution_count": 3,
   "id": "80d32c5f-13a5-4fe1-b22b-0f4071d583df",
   "metadata": {},
   "outputs": [],
   "source": [
    "loader = UnstructuredURLLoader(urls = [\n",
    "   ' https://exputer.com/exputer/metal-gear-solid-3-highly-faithful-remake/'\n",
    "])"
   ]
  },
  {
   "cell_type": "code",
   "execution_count": 4,
   "id": "044c205b-145d-4bc4-8349-f5f2c4b89fab",
   "metadata": {},
   "outputs": [
    {
     "data": {
      "text/plain": [
       "1"
      ]
     },
     "execution_count": 4,
     "metadata": {},
     "output_type": "execute_result"
    }
   ],
   "source": [
    "data = loader.load()\n",
    "len(data)"
   ]
  },
  {
   "cell_type": "code",
   "execution_count": 5,
   "id": "767e0572-3579-46ed-9221-32fdab04b3ab",
   "metadata": {},
   "outputs": [
    {
     "data": {
      "text/plain": [
       "\"Menu\\n\\nSwitch skin\\n\\nNews\\n\\n\\tExclusives\\n\\tIndustry\\n\\tGames\\n\\tPatents\\n\\nOriginals\\n\\nInterviews\\n\\nGuides\\n\\n\\tError Fixes\\n\\tGame Settings\\n\\tTier Lists\\n\\tGame Codes\\n\\tUpcoming Games\\n\\tPalworld\\n\\tFortnite\\n\\tStarfield\\n\\tRemnant 2\\n\\tBaldur’s Gate 3\\n\\tDiablo 4\\n\\tElden Ring\\n\\nReviews\\n\\nGaming Hub\\n\\n\\tVideo Game Recommendation Engine\\n\\tFallout 4 Calculator\\n\\tQuiz\\n\\t\\n\\t\\tGuess The Game By Its Logo\\n\\t\\tGeneral Knowledge Quiz\\n\\t\\tElden Ring Quiz\\n\\t\\tGTA V Quiz\\n\\t\\tRDR2 Quiz\\n\\t\\tMinecraft Quiz\\n\\t\\tThe Last Of Us Quiz\\n\\nForums\\n\\nMore\\n\\n\\tVideos\\n\\tShop\\n\\tCoaching\\n\\tWork With Us\\n\\tDiscord\\n\\tPatreon\\n\\nSearch for\\n\\nSwitch skin\\n\\nCommunity\\n\\t\\t\\t\\n\\t\\t\\tFacebookTwitterLinkedInYouTubeInstagramTripAdvisorTikTokRSS\\n\\nHome\\n\\neXputer Originals\\n\\nMetal Gear Solid 3 Remake Shows Incredible Commitment To The Original\\n\\nMetal Gear Solid 3 Remake Shows Incredible Commitment To The Original\\n\\nFrom entire sequences to the smallest of details, the dedication is insane.\\n\\nBy Hanzala Iftikhar\\n\\n2 weeks ago\\n\\n4 minutes read\\n\\nThreads\\n\\nFollow us\\n\\nStory Highlights\\n\\nThe Xbox showcase displayed Metal Gear Solid Delta: Snake Eater in all its visual glory.\\n\\nIt not only refines the gameplay but is shaping up to be as true to the original as possible.\\n\\nWith Konami’s track record, I still have some doubts, but let’s hope it’s as good as this trailer.\\n\\nThe man, the legend, Hideo Kojima. You know just how much of an icon he is in the gaming industry. If you’re not familiar with the history, you must have wondered at some point “Why is this guy so popular?” The answer, my friend, is Metal Gear.\\n\\nKojima’s popularity and renown can be traced to a game series that forever revolutionized the medium, brought certain conventions that have essentially become laws, and a plot so complex it took the world years to finally understand. With the Metal Gear Solid 3 Remake right around the corner, this is your cue to explore this legendary series if you haven’t and join the cult.\\n\\nTable of Contents\\n\\nMetal Gear Solid Delta Looks Incredible\\n\\nTaking “Staying True To The Original” To The Extreme\\n\\nAlright, You Can Have Your Filter\\n\\nI’m Keeping My Fingers Crossed, Konami\\n\\nMetal Gear Solid Delta Looks Incredible\\n\\nAs religiously as I’ve played the Metal Gear series, the prospect of getting to play the overwhelming MGS3 once again was an indescribable feeling of joy. However, logic soon took over and I realized that Konami was no longer what it was, so I shouldn’t get my hopes up. This company has absolutely ruined Metal Gear, Silent Hill, and more with the pachinko nonsense. Why should I trust it now?\\n\\nI don’t want Konami Metal Gear.\\n\\nby\\n\\nu/JamPilotKnight in\\n\\nmetalgearsolid\\n\\nStill, Metal Gear Solid 3 was too much of a strong allure, and I couldn’t help but get attracted. Along came the Xbox showcase with the brilliant MGS3 trailer. By the time it finished, it had completely won me over.\\n\\nFirst, let me just say how much of an emotional ride and sentimental blow it was to see this unrivaled masterpiece look so visually stunning. I got teary-eyed to see how far we had come. I still remember playing this for the first time and getting surprised. Now, I can relive all those iconic moments but in extreme, photorealistic detail.\\n\\nAfter I finished fawning over the visuals, I shifted my attention to the gameplay. And I must say, the vastly improved gameplay had me falling in love all over. It’s Metal Gear Solid 3 with MGS 5-style gameplay and a stunning graphical overhaul, can you even blame me? The addition of crouched movement may break the game, but as long as the AI is modified accordingly, I think this new gameplay direction will be a massive treat.\\n\\nGameplay look at Metal Gear Solid 3: Delta.\\n\\nLooks SICK.#Xbox #XboxShowcase pic.twitter.com/OHX33GbaXG\\n\\n— Shinobi602 (@shinobi602) June 9, 2024\\n\\nTaking “Staying True To The Original” To The Extreme\\n\\nAfter all this, you must be wondering “They’ve changed the game a lot, what if it loses its charm?” To this, I’ll simply reply, Rest assured. Other than the visual overhaul and the gameplay modifications as per the necessity of a remake, it’s as much MGS3 as you remember, down to the finest of the details.\\n\\nIf there’s one thing this trailer confirmed, it’s how much of a Metal Gear Solid 3 fan the devs are. Kojima may be gone, but some good people remain it seems. Their commitment to keeping the remake as true to the original as possible is downright shocking.\\n\\nI love Kojima and hate what Konami did to him, but Delta isnt being made by those corporate people, its being made by hardworking game devs…\\n\\nby\\n\\nu/Due-Revolution-9379 in\\n\\nmetalgearsolid\\n\\nFrom big things like the iconic cutscenes and scenarios from the original like the swamp mission, to little details like Snake shouting when unloading the M63, it’s Metal Gear Solid 3 just as you remember. They left major scenes and encounters unchanged; the trailer makes sure to establish that you’ll always know it’s MGS 3, just visually a lot more impactful.\\n\\nSpeaking of staying true to the original, the remake even uses the original sound recording as it is. You must have noticed this from the trailer too, but the sounds are exactly the same, lifted from the original unaltered. You get to listen to David Hayter’s legendary voice once again, it’s like you’re back in the glory days of Konami and Metal Gear. Man, I love just how much of a throwback this remake is to the original.\\n\\nThe story and character voices in METAL GEAR SOLID Δ: SNAKE EATER remain the same from the original game.\\n\\n#MetalGearSolid\\n\\n#MGSDelta\\n\\n#MG35th\\n\\npic.twitter.com/WoyCoDOydM\\n\\n— METAL GEAR OFFICIAL (@Metalgear) May 25, 2023\\n\\nOh, and I think The Boss’ redesign is very fitting, and so is Snake’s. I don’t know what the complaints even wanted.\\n\\nAlright, You Can Have Your Filter\\n\\nI know what you’re thinking, I had the same thought watching the trailer. “Ain’t no Metal Gear Solid 3 without the piss filter,” am I right? Jokes aside, the atmospheric post-processing of that era created a yellowish-green tinge in the games, a relic of technologically limited times. However, they’ve essentially become a part of the experience for those who enjoyed gaming back then.\\n\\nThus, seeing Metal Gear Solid 3 and all its iconic characters and cutscenes without the yellow filter was kind of odd. Like something integral was missing.\\xa0I’m just kidding, The Metal Gear Solid 3 remake looks incredible with or without it. However, it seems the devs took the “bring back the piss filter” demands a little too seriously.\\n\\nAdded a little piss-filter and bloom to the MGS3 remake trailer\\n\\nby\\n\\nu/DarioxSulvan in\\n\\nmetalgearsolid\\n\\nMetal Gear Solid Delta: Snake Eater will have an option that turns on the yellowish filter to ensure a more realistic MGS 3 experience, for all you elitists out there (deep down, I’m that elitist). So, if you even slightly meant it when you asked for the filter, rejoice for it has become a reality.\\n\\nI’m Keeping My Fingers Crossed, Konami\\n\\nIn a nutshell, I’m extremely excited about revisiting Metal Gear Solid 3.\\xa0However, no matter how much I try, I can shake off the feeling that Konami will mess it up somehow. This is the present Konami we’re talking about. Pachinkos, NFTs, microtransactions, you name whatever money-making scheme you can think of, Konami has done it. With all the brilliant IPs that it has ruined over the years, even hoping for something good scares me.\\n\\nStill, I’m a firm believer in second chances. If Konami delivers a final product as impressive as this trailer, it can take a solid step toward redemption.\\n\\nDid you find this helpful? Leave feedback below.\\n\\nThanks! Do share your feedback with us. ⚡\\n\\nHow can we make this post better? Your help would be appreciated. ✍\\n\\nSubscribe to our newsletter and get up-to-speed gaming updates delivered to your inbox.\\n\\nWe don’t spam! Read more in our privacy policy.\\n\\nCheck your inbox or spam folder to confirm your subscription.\\n\\nTags\\n\\nKonami\\n\\nBy Hanzala Iftikhar\\n\\n2 weeks ago\\n\\n4 minutes read\\n\\nFacebook\\n\\nTwitter\\n\\nLinkedIn\\n\\nReddit\\n\\nShare via Email\\n\\nPrint\\n\\nHanzala Iftikhar\\n\\nFeatured Writer |\\n\\nEmail\\n\\nLinkedIn\\n\\n\\n\\t\\t\\t\\t\\tHanzala is a dedicated writer who expresses his views as opinion pieces at eXputer. He's always been fascinated by gaming and has been an avid consumer of many different genres for over a decade. His passion for games has him eager to encounter the latest RPGs and actively look for new Soulslike to challenge. He puts forth his experience and knowledge of gaming into captivating opinion pieces.\\r\\n\\n\\nExperience: 8+ months || Education: Bachelors in Chemistry.\\n\\nRelated Articles\\n\\nShadow Of The Erdtree Transcends All Boundaries Of Open-World And Level Design\\n\\n21 hours ago\\n\\nShadow Of The Erdtree Is Impossible Only If You Choose To Make It So\\n\\n22 hours ago\\n\\nRaven Software Made History, Only For Activision To Say “You’re Tech Support Now”\\n\\n23 hours ago\\n\\nAstro Bot And Zelda’s Fame Shows The Love For Creativity Hasn’t Faded Just Yet\\n\\n2 days ago\\n\\nJoin Our Community\\n\\nEnjoyed this article? Discuss the latest gaming news, get expert help with guides and errors, and chat about all things gaming on eXputer Forums and Discord Server. Connect with fellow gamers who share your passion by becoming a part of eXputer's community.\\n\\neXputer+\\n\\n6 Video Game Franchises I’d Love To See Coming To PlayStation\\n\\nDC Is Light Years Behind Marvel In Gaming And Batman Is Partly To Blame For That\\n\\nDragon Fights Have Always Sucked In Elden Ring, And I’m Tired Of Pretending They Don’t\\n\\nInterviews\\n\\nBloodborne X Minecraft Interview: Modder Aims To Complete Project By 2025\\n\\nTurbo Golf Racing Interview: Dev Believes Game Pass Release Was A Major Boost\\n\\nTrove’s Developer Excited For A Potential Sequel\\n\\nSubscribe to our newsletter and get up-to-speed gaming updates delivered to your inbox.\\n\\nWe don’t spam! Read more in our privacy policy.\\n\\nCheck your inbox or spam folder to confirm your subscription.\\n\\nSupport eXputer on Patreon\\n\\nThese are challenging times for video game journalism, and we need your support. If eXputer has been part of your gaming journey, please consider becoming a Patreon member. Your contribution will help us continue delivering the content you love and keep our independent voice alive. Thank you for standing with us.\\n\\neXputer\\n\\nAbout Us\\n\\nTeam\\n\\nEditorial Guidelines\\n\\nHomepage\\n\\nSupport\\n\\nPrivacy Policy\\n\\nCookie Policy\\n\\nTerms of Use\\n\\nAffiliate Disclosure\\n\\nResources\\n\\nGaming Hub\\n\\nShop\\n\\nCoaching\\n\\nPatreon\\n\\nCommunity\\n\\nForums\\n\\nDiscord\\n\\nYouTube Guides\\n\\nWork With Us\\n\\neXputer is a leading gaming-focused news and media website catering to a diverse readership across the Americas, EMEA, and APAC regions. Specializing in gaming news, guides, tier lists, game settings, and error fixes, eXputer also conducts interviews and offers exclusives, features, and leaks. Additionally, eXputer provides gaming tools such as a game recommendation engine, all built for gamers by gamers\\n\\nAddress: Business Centre 1, M Floor, The Meydan HQ, Nad Al Sheba, Dubai, UAE.\\n\\nContact: pr@exputer.com\\n\\nCompany Number:  2202742\\n\\nFacebook\\n\\nTwitter\\n\\nLinkedIn\\n\\nYouTube\\n\\nInstagram\\n\\nTikTok\\n\\nRSS\\n\\nSubscribe to our newsletter and get up-to-speed gaming updates delivered to your inbox.\\n\\nWe don’t spam! Read more in our privacy policy.\\n\\nCheck your inbox or spam folder to confirm your subscription.\\n\\n© 2024 eXputer®. All trademarks mentioned are the property of their respective owners. eXputer® is part of REDLUMB LLC FZ.\\n\\nClose\\n\\nSearch for:\\n\\nClose\\n\\nSearch for\""
      ]
     },
     "execution_count": 5,
     "metadata": {},
     "output_type": "execute_result"
    }
   ],
   "source": [
    "data[0].page_content"
   ]
  },
  {
   "cell_type": "code",
   "execution_count": 6,
   "id": "4b1c507c-4644-435b-b869-846f3f9457fc",
   "metadata": {},
   "outputs": [
    {
     "data": {
      "text/plain": [
       "{'source': ' https://exputer.com/exputer/metal-gear-solid-3-highly-faithful-remake/'}"
      ]
     },
     "execution_count": 6,
     "metadata": {},
     "output_type": "execute_result"
    }
   ],
   "source": [
    "data[0].metadata"
   ]
  },
  {
   "cell_type": "code",
   "execution_count": 7,
   "id": "287f290a-3950-4054-9507-d180585e8592",
   "metadata": {},
   "outputs": [],
   "source": [
    "#now we divide into several chunks, get merge relevant chunk closer to token size "
   ]
  },
  {
   "cell_type": "code",
   "execution_count": 8,
   "id": "c20146d6-ab19-4184-9a4b-16bc73b7dd63",
   "metadata": {},
   "outputs": [],
   "source": [
    "from langchain.text_splitter import CharacterTextSplitter"
   ]
  },
  {
   "cell_type": "code",
   "execution_count": 9,
   "id": "6af44f9d-f92d-47c0-847e-c6bd955187ad",
   "metadata": {
    "scrolled": true
   },
   "outputs": [
    {
     "name": "stderr",
     "output_type": "stream",
     "text": [
      "Created a chunk of size 492, which is longer than the specified 200\n",
      "Created a chunk of size 798, which is longer than the specified 200\n"
     ]
    },
    {
     "name": "stdout",
     "output_type": "stream",
     "text": [
      "492\n",
      "An armed conflict between Israel and Hamas-led Palestinian militant groups[ab] has been taking place chiefly in the Gaza Strip since 7 October 2023. Clashes have also occurred in the Israeli-occupied West Bank and with Hezbollah along the Israel–Lebanon–Golan Heights border. The fifth war of the Gaza–Israel conflict since 2008, it is part of the broader Israeli–Palestinian conflict, and the most significant military engagement in the region since the Yom Kippur War 50 years earlier.[108]\n",
      "798\n",
      "The war began when Hamas-led militant groups launched a surprise attack on Israel on 7 October. An estimated 3,000 militants breached the Gaza–Israel barrier and attacked Israeli civilian communities and military bases. Several thousand rockets were concurrently launched into Israel. During this attack, 1,139 Israelis and foreign nationals were killed, including 766 civilians and 373 security personnel.[ac] In addition, 251 Israelis and foreigners were taken captive into Gaza.[109] Hamas said its attack was in response to the continued Israeli occupation of the Palestinian territories, the blockade of the Gaza Strip, the expansion of illegal Israeli settlements, as well as alleged threats to the Al-Aqsa Mosque and the plight of Palestinian refugees and prisoners.[110][111][112][113][114]\n",
      "789\n",
      "After clearing militants from its territory, Israel responded by launching one of the most destructive bombing campaigns in modern history,[115][116] before commencing a large-scale ground invasion on 27 October with the stated objectives of destroying Hamas and releasing the hostages.[117][118] Since the start of the Israeli operation, more than 35,000 Palestinians in Gaza have been killed,[119] of which the UN estimates at least 56% are women and children.[120] 10,000 others are missing and presumed trapped under rubble.[37] The war has been the deadliest for Palestinians in the entire Arab–Israeli conflict.[121] Nearly all of the strip's 2.3 million Palestinian population has been forcibly displaced,[122][123] and over one hundred thousand Israelis remain internally displaced\n"
     ]
    }
   ],
   "source": [
    "# seperate text on the basis of only one seperator which can lead to chunks greater than specified chunk size\n",
    "text = \"\"\"An armed conflict between Israel and Hamas-led Palestinian militant groups[ab] has been taking place chiefly in the Gaza Strip since 7 October 2023. Clashes have also occurred in the Israeli-occupied West Bank and with Hezbollah along the Israel–Lebanon–Golan Heights border. The fifth war of the Gaza–Israel conflict since 2008, it is part of the broader Israeli–Palestinian conflict, and the most significant military engagement in the region since the Yom Kippur War 50 years earlier.[108]\n",
    "The war began when Hamas-led militant groups launched a surprise attack on Israel on 7 October. An estimated 3,000 militants breached the Gaza–Israel barrier and attacked Israeli civilian communities and military bases. Several thousand rockets were concurrently launched into Israel. During this attack, 1,139 Israelis and foreign nationals were killed, including 766 civilians and 373 security personnel.[ac] In addition, 251 Israelis and foreigners were taken captive into Gaza.[109] Hamas said its attack was in response to the continued Israeli occupation of the Palestinian territories, the blockade of the Gaza Strip, the expansion of illegal Israeli settlements, as well as alleged threats to the Al-Aqsa Mosque and the plight of Palestinian refugees and prisoners.[110][111][112][113][114]\n",
    "After clearing militants from its territory, Israel responded by launching one of the most destructive bombing campaigns in modern history,[115][116] before commencing a large-scale ground invasion on 27 October with the stated objectives of destroying Hamas and releasing the hostages.[117][118] Since the start of the Israeli operation, more than 35,000 Palestinians in Gaza have been killed,[119] of which the UN estimates at least 56% are women and children.[120] 10,000 others are missing and presumed trapped under rubble.[37] The war has been the deadliest for Palestinians in the entire Arab–Israeli conflict.[121] Nearly all of the strip's 2.3 million Palestinian population has been forcibly displaced,[122][123] and over one hundred thousand Israelis remain internally displaced\"\"\"\n",
    "\n",
    "\n",
    "splitter = CharacterTextSplitter(\n",
    "    separator = '\\n',\n",
    "    chunk_size = 200,\n",
    "    chunk_overlap = 0\n",
    ")\n",
    "chunks = splitter.split_text(text)\n",
    "for chunk in chunks:\n",
    "    print(len(chunk))\n",
    "    print(chunk)"
   ]
  },
  {
   "cell_type": "code",
   "execution_count": 10,
   "id": "406058a2-be60-4066-b1eb-f565ea60c151",
   "metadata": {},
   "outputs": [
    {
     "name": "stdout",
     "output_type": "stream",
     "text": [
      "147\n",
      "127\n",
      "212\n",
      "6\n",
      "94\n",
      "189\n",
      "197\n",
      "292\n",
      "26\n",
      "286\n",
      "176\n",
      "189\n",
      "139\n"
     ]
    }
   ],
   "source": [
    "#we use recursive text splitter that can use multiple seperator\n",
    "from langchain.text_splitter import RecursiveCharacterTextSplitter\n",
    "r_splitter = RecursiveCharacterTextSplitter(\n",
    "    separators = [\"\\n\\n\", \"\\n\",\".\",\"?\"],\n",
    "    chunk_size = 200,\n",
    "    chunk_overlap = 0\n",
    ")\n",
    "chunks = r_splitter.split_text(text)\n",
    "for chunk in chunks:\n",
    "    print(len(chunk))"
   ]
  },
  {
   "cell_type": "code",
   "execution_count": 11,
   "id": "a1164089-175c-4276-850b-ec0546f462a6",
   "metadata": {},
   "outputs": [],
   "source": [
    "import os\n",
    "import streamlit as st\n",
    "import pickle\n",
    "import time\n",
    "from langchain import OpenAI\n",
    "from langchain.chains import RetrievalQAWithSourcesChain\n",
    "from langchain.chains.qa_with_sources.loading import load_qa_with_sources_chain\n",
    "from langchain_openai import OpenAIEmbeddings\n",
    "from langchain.vectorstores import FAISS\n"
   ]
  },
  {
   "cell_type": "code",
   "execution_count": 12,
   "id": "b71b21fd-fe7b-41ac-a857-53d040efa4cd",
   "metadata": {},
   "outputs": [],
   "source": [
    "os.environ['OPENAI_API_KEY'] = ''"
   ]
  },
  {
   "cell_type": "code",
   "execution_count": 13,
   "id": "8ebe2c04-1aa2-4ced-802c-fb8c82cd8688",
   "metadata": {},
   "outputs": [
    {
     "name": "stderr",
     "output_type": "stream",
     "text": [
      "C:\\Users\\Lenovo\\anaconda3\\Lib\\site-packages\\langchain_core\\_api\\deprecation.py:139: LangChainDeprecationWarning: The class `OpenAI` was deprecated in LangChain 0.0.10 and will be removed in 0.3.0. An updated version of the class exists in the langchain-openai package and should be used instead. To use it run `pip install -U langchain-openai` and import as `from langchain_openai import OpenAI`.\n",
      "  warn_deprecated(\n"
     ]
    },
    {
     "data": {
      "text/plain": [
       "15"
      ]
     },
     "execution_count": 13,
     "metadata": {},
     "output_type": "execute_result"
    }
   ],
   "source": [
    "llm = OpenAI(temperature = 0.9, max_tokens = 500)\n",
    "loader = UnstructuredURLLoader(urls = [\n",
    "   ' https://exputer.com/exputer/metal-gear-solid-3-highly-faithful-remake/'\n",
    "])\n",
    "DATA = loader.load()\n",
    "\n",
    "rec_splitter = RecursiveCharacterTextSplitter(\n",
    "    chunk_size = 1000,\n",
    "    chunk_overlap = 200\n",
    ")\n",
    "docs = rec_splitter.split_documents(data)\n",
    "len(docs)"
   ]
  },
  {
   "cell_type": "code",
   "execution_count": null,
   "id": "2ddbc2c4-ae21-4d9f-b924-4b7030314c0e",
   "metadata": {},
   "outputs": [],
   "source": [
    "embeddings = OpenAIEmbeddings()\n",
    "vector_index = FAISS.from_documents(docs,embeddings)"
   ]
  },
  {
   "cell_type": "code",
   "execution_count": null,
   "id": "9ca0e756-4e87-414f-9711-7072764f5c12",
   "metadata": {},
   "outputs": [],
   "source": [
    "file_path = \"vector_index.pkl\"\n",
    "with open(file_path,\"wb\")as f:\n",
    "    pickle.dump(vector_index,f)"
   ]
  },
  {
   "cell_type": "code",
   "execution_count": null,
   "id": "b941b33e-cc2d-434b-b724-be7d66f59035",
   "metadata": {},
   "outputs": [],
   "source": [
    "if os.path.exists(file_path):\n",
    "    with open(filepath,\"rb\") as f:\n",
    "        vectoridx = pickle.load(f)"
   ]
  },
  {
   "cell_type": "code",
   "execution_count": null,
   "id": "56a79bfc-eb5a-41e3-9244-6e52eaa8e146",
   "metadata": {},
   "outputs": [],
   "source": [
    "chain = RetrievalQAWithSourcesChain.from_llm(llm = llm, retriever= vectoridx.as_retriever())\n",
    "query = \"what is the gameplay style of metal gear solid 3\"\n",
    "langchain.debug= True\n",
    "chain({\"question\":Query},return_only_outputs=True)\n"
   ]
  },
  {
   "cell_type": "code",
   "execution_count": null,
   "id": "e060ef3a-3cc2-4d56-97fc-fd00a8708733",
   "metadata": {},
   "outputs": [],
   "source": []
  }
 ],
 "metadata": {
  "kernelspec": {
   "display_name": "Python 3 (ipykernel)",
   "language": "python",
   "name": "python3"
  },
  "language_info": {
   "codemirror_mode": {
    "name": "ipython",
    "version": 3
   },
   "file_extension": ".py",
   "mimetype": "text/x-python",
   "name": "python",
   "nbconvert_exporter": "python",
   "pygments_lexer": "ipython3",
   "version": "3.11.7"
  }
 },
 "nbformat": 4,
 "nbformat_minor": 5
}
